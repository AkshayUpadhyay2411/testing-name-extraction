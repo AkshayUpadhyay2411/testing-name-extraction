{
 "cells": [
  {
   "cell_type": "code",
   "execution_count": 3,
   "metadata": {},
   "outputs": [
    {
     "name": "stdout",
     "output_type": "stream",
     "text": [
      "ashsdkjn\n"
     ]
    }
   ],
   "source": [
    "punc = '''[](-)*!,'-\"/’<•>#$;'''\n",
    "text_string = \"[][]ashsdkjn,,,,[](-)*!,'-[](-)*!,'-\"\n",
    "\n",
    "# Create a translation table without replacement characters\n",
    "translator = str.maketrans('', '', punc)\n",
    "\n",
    "# Use translate to remove punctuation\n",
    "cleaned_text = text_string.translate(translator)\n",
    "\n",
    "print(cleaned_text)"
   ]
  },
  {
   "cell_type": "code",
   "execution_count": null,
   "metadata": {},
   "outputs": [],
   "source": []
  }
 ],
 "metadata": {
  "kernelspec": {
   "display_name": "testing",
   "language": "python",
   "name": "python3"
  },
  "language_info": {
   "codemirror_mode": {
    "name": "ipython",
    "version": 3
   },
   "file_extension": ".py",
   "mimetype": "text/x-python",
   "name": "python",
   "nbconvert_exporter": "python",
   "pygments_lexer": "ipython3",
   "version": "3.11.3"
  }
 },
 "nbformat": 4,
 "nbformat_minor": 2
}
